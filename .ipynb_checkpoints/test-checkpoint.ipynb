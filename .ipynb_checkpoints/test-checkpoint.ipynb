{
 "cells": [
  {
   "cell_type": "code",
   "execution_count": null,
   "metadata": {},
   "outputs": [],
   "source": [
    "import note_seq\n",
    "from note_seq import drums_lib\n",
    "from note_seq import midi_io\n",
    "from note_seq.protobuf import music_pb2\n",
    "from note_seq import sequences_lib\n",
    "\n",
    "import ctypes.util\n",
    "orig_ctypes_util_find_library = ctypes.util.find_library\n",
    "def proxy_find_library(lib):\n",
    "    print(lib)\n",
    "    if lib == 'fluidsynth':\n",
    "        return 'libfluidsynth.so.1'\n",
    "    else:\n",
    "        return orig_ctypes_util_find_library(lib)\n",
    "ctypes.util.find_library = proxy_find_library"
   ]
  },
  {
   "cell_type": "code",
   "execution_count": null,
   "metadata": {},
   "outputs": [],
   "source": [
    "drums = music_pb2.NoteSequence()\n",
    "\n",
    "drums.notes.add(pitch=36, start_time=0, end_time=0.125, is_drum=True, instrument=10, velocity=80)\n",
    "drums.notes.add(pitch=38, start_time=0, end_time=0.125, is_drum=True, instrument=10, velocity=80)\n",
    "drums.notes.add(pitch=42, start_time=0, end_time=0.125, is_drum=True, instrument=10, velocity=80)\n",
    "drums.notes.add(pitch=46, start_time=0, end_time=0.125, is_drum=True, instrument=10, velocity=80)\n",
    "drums.notes.add(pitch=42, start_time=0.25, end_time=0.375, is_drum=True, instrument=10, velocity=80)\n",
    "drums.notes.add(pitch=42, start_time=0.375, end_time=0.5, is_drum=True, instrument=10, velocity=80)\n",
    "drums.notes.add(pitch=42, start_time=0.5, end_time=0.625, is_drum=True, instrument=10, velocity=80)\n",
    "drums.notes.add(pitch=50, start_time=0.5, end_time=0.625, is_drum=True, instrument=10, velocity=80)\n",
    "drums.notes.add(pitch=36, start_time=0.75, end_time=0.875, is_drum=True, instrument=10, velocity=80)\n",
    "drums.notes.add(pitch=38, start_time=0.75, end_time=0.875, is_drum=True, instrument=10, velocity=80)\n",
    "drums.notes.add(pitch=42, start_time=0.75, end_time=0.875, is_drum=True, instrument=10, velocity=80)\n",
    "drums.notes.add(pitch=45, start_time=0.75, end_time=0.875, is_drum=True, instrument=10, velocity=80)\n",
    "drums.notes.add(pitch=36, start_time=1, end_time=1.125, is_drum=True, instrument=10, velocity=80)\n",
    "drums.notes.add(pitch=42, start_time=1, end_time=1.125, is_drum=True, instrument=10, velocity=80)\n",
    "drums.notes.add(pitch=46, start_time=1, end_time=1.125, is_drum=True, instrument=10, velocity=80)\n",
    "drums.notes.add(pitch=42, start_time=1.25, end_time=1.375, is_drum=True, instrument=10, velocity=80)\n",
    "drums.notes.add(pitch=48, start_time=1.25, end_time=1.375, is_drum=True, instrument=10, velocity=80)\n",
    "drums.notes.add(pitch=50, start_time=1.25, end_time=1.375, is_drum=True, instrument=10, velocity=80)\n",
    "drums.total_time = 1.375\n",
    "\n",
    "drums.tempos.add(qpm=60)\n",
    "\n",
    "# This is a colab utility method that visualizes a NoteSequence.\n",
    "note_seq.plot_sequence(drums)\n",
    "\n",
    "# This is a colab utility method that plays a NoteSequence.\n",
    "# note_seq.play_sequence(twinkle_twinkle,synth=note_seq.fluidsynth)\n",
    "##seq to midi\n",
    "note_seq.sequence_proto_to_midi_file(drums, 'drums_sample_output.mid')"
   ]
  },
  {
   "cell_type": "code",
   "execution_count": null,
   "metadata": {},
   "outputs": [],
   "source": [
    "## midi to note seq\n",
    "hithere = note_seq.midi_file_to_note_sequence('./e-gmd-v1.0.0/drummer1/session1/2_funk_80_beat_4-4_7.midi')\n",
    "note_seq.plot_sequence(hithere)"
   ]
  },
  {
   "cell_type": "code",
   "execution_count": null,
   "metadata": {},
   "outputs": [],
   "source": [
    "## noteseq to drumtrack\n",
    "drums = drums_lib.DrumTrack()\n",
    "quantized_sequence = sequences_lib.quantize_note_sequence(\n",
    "        hithere, 4)\n",
    "drums.from_quantized_sequence(quantized_sequence, search_start_step=0)\n",
    "print(len(list(drums)))\n"
   ]
  },
  {
   "cell_type": "code",
   "execution_count": null,
   "metadata": {},
   "outputs": [],
   "source": [
    "## drumtrack to sequence to midi\n",
    "\n",
    "lol=drums[0:64].to_sequence()\n",
    "# print(lol)\n",
    "midi_io.sequence_proto_to_midi_file(lol,'test.midi')"
   ]
  },
  {
   "cell_type": "code",
   "execution_count": null,
   "metadata": {},
   "outputs": [],
   "source": [
    "##drum track to midi\n",
    "from note_seq import drums_encoder_decoder\n",
    "enc = drums_encoder_decoder.MultiDrumOneHotEncoding()\n",
    "yike = enc.encode_event(drums[11])\n",
    "yike = enc.decode_event(drums[11])\n",
    "print(yike)\n"
   ]
  }
 ],
 "metadata": {
  "kernelspec": {
   "display_name": "Python 3",
   "language": "python",
   "name": "python3"
  },
  "language_info": {
   "codemirror_mode": {
    "name": "ipython",
    "version": 3
   },
   "file_extension": ".py",
   "mimetype": "text/x-python",
   "name": "python",
   "nbconvert_exporter": "python",
   "pygments_lexer": "ipython3",
   "version": "3.7.6"
  }
 },
 "nbformat": 4,
 "nbformat_minor": 4
}
