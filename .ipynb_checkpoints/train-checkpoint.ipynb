{
 "cells": [
  {
   "cell_type": "code",
   "execution_count": 5,
   "metadata": {},
   "outputs": [],
   "source": [
    "import torch\n",
    "import torch.nn as nn\n",
    "from torch.nn import functional as F\n",
    "import os\n",
    "from helpers import *\n",
    "from classes import *\n",
    "import random\n",
    "import time\n",
    "from torch.utils.tensorboard import SummaryWriter\n",
    "\n",
    "## Set device\n",
    "\n",
    "torch.cuda.set_device(3)\n",
    "use_cuda = torch.cuda.is_available()\n",
    "device = torch.device('cuda' if use_cuda else 'cpu')"
   ]
  },
  {
   "cell_type": "code",
   "execution_count": 2,
   "metadata": {},
   "outputs": [],
   "source": [
    "epochs = 1000\n",
    "train_num = 1000\n",
    "test_num =100\n",
    "lr = 0.001\n",
    "name = \"autoencode\"\n",
    "sessions = [\"session1\",\"session2\",\"session3\"]\n",
    "net = ae().to(device)\n",
    "optimizer = torch.optim.Adam(net.parameters(),lr = lr)\n",
    "writerb = SummaryWriter('runs/{}'.format(name))"
   ]
  },
  {
   "cell_type": "code",
   "execution_count": null,
   "metadata": {},
   "outputs": [],
   "source": [
    "for epoch in range(epochs):\n",
    "    t0 = time.time()\n",
    "    for i in range(train_num):\n",
    "        net.train()\n",
    "        ## pick midi\n",
    "        current = os.getcwd()\n",
    "        path = os.path.join(current, \"data\") \n",
    "        path = os.path.join(path, \"drummer1\") \n",
    "        ## choose session\n",
    "        path = os.path.join(path, random.choice(sessions)) \n",
    "        ## choose midi\n",
    "        midi_path = os.path.join(path, random.choice(os.listdir(path))) \n",
    "        \n",
    "        ##input array making\n",
    "        try:\n",
    "            in_array = midi_to_input(midi_path)\n",
    "        except notLong:\n",
    "            continue\n",
    "        \n",
    "        in_tensor = torch.tensor(in_array).to(device=device, non_blocking=True)\n",
    "        \n",
    "        #forward\n",
    "        optimizer.zero_grad()\n",
    "        output = net(in_tensor)\n",
    "        loss = F.nll_loss(in_tensor,output)\n",
    "        #backward\n",
    "        train_loss.backward()\n",
    "        optimizer.step()\n",
    "        dur.append(time.time() - t0)\n",
    "        \n",
    "    ## eval\n",
    "    for j in range(test_num):\n",
    "        loss_total = 0\n",
    "        count = 0\n",
    "        ## pick midi\n",
    "        current = os.getcwd()\n",
    "        path = os.path.join(current, \"data\") \n",
    "        path = os.path.join(path, \"drummer1\") \n",
    "        ## choose session\n",
    "        path = os.path.join(path, \"eval_session\") \n",
    "        ## choose midi\n",
    "        midi_path = os.path.join(path, random.choice(os.listdir(path))) \n",
    "        \n",
    "        ##input array making\n",
    "        try:\n",
    "            in_array = midi_to_input(midi_path)\n",
    "        except notLong:\n",
    "            continue\n",
    "        in_tensor = torch.tensor(in_array).to(device=device, non_blocking=True)\n",
    "        \n",
    "        #forward\n",
    "        net.eval()\n",
    "        with torch.no_grad():\n",
    "            output = net(in_tensor)\n",
    "            loss_total+= F.nll_loss(in_tensor,output)\n",
    "        count+=1\n",
    "        print(\"Epoch {:05d} | Train_loss {:.4f} | Test_loss {:.4f}  | Time(s) {:.4f}| Name: {}\" .format(epoch, train_loss.item(), loss_total/count, np.mean(dur)))\n",
    "        writerb.add_scalar('test_loss',loss_total/count,epoch)\n",
    "        dur.append(time.time() - t0)\n",
    "        torch.save(net.state_dict(), \"models/{}.pth\".format(name))\n",
    "        \n",
    "        \n",
    "        \n",
    "        \n",
    "        \n",
    "        \n",
    "        \n",
    "    \n",
    "        \n",
    "        "
   ]
  },
  {
   "cell_type": "code",
   "execution_count": null,
   "metadata": {
    "scrolled": true
   },
   "outputs": [],
   "source": []
  },
  {
   "cell_type": "code",
   "execution_count": null,
   "metadata": {},
   "outputs": [],
   "source": [
    "thing = midi_to_input(lmao)"
   ]
  },
  {
   "cell_type": "code",
   "execution_count": null,
   "metadata": {},
   "outputs": [],
   "source": [
    "print(thing[96:105])"
   ]
  }
 ],
 "metadata": {
  "kernelspec": {
   "display_name": "Python 3",
   "language": "python",
   "name": "python3"
  },
  "language_info": {
   "codemirror_mode": {
    "name": "ipython",
    "version": 3
   },
   "file_extension": ".py",
   "mimetype": "text/x-python",
   "name": "python",
   "nbconvert_exporter": "python",
   "pygments_lexer": "ipython3",
   "version": "3.7.6"
  }
 },
 "nbformat": 4,
 "nbformat_minor": 4
}
